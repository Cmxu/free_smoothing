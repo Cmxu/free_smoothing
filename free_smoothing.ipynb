{
 "cells": [
  {
   "cell_type": "code",
   "execution_count": 1,
   "metadata": {},
   "outputs": [],
   "source": [
    "import torch\n",
    "from data_util import toDeviceDataLoader, load_cifar, to_device, load_mnist\n",
    "from model_util import VGG\n",
    "import torchvision\n",
    "from util import dsa\n",
    "from tqdm.notebook import tqdm\n",
    "import torch.nn.functional as F\n",
    "from matplotlib import pyplot as plt\n",
    "import statsmodels.api as sm\n",
    "import scipy\n",
    "import numpy as np\n",
    "import random\n",
    "\n",
    "#device = torch.device(\"cuda:1\" if torch.cuda.is_available() else \"cpu\")\n",
    "device = torch.device('cpu')\n",
    "\n",
    "torch.manual_seed(123)\n",
    "random.seed(123)\n",
    "np.random.seed(123)"
   ]
  },
  {
   "cell_type": "code",
   "execution_count": 2,
   "metadata": {},
   "outputs": [],
   "source": [
    "class MNet(torch.nn.Module):\n",
    "    def __init__(self):\n",
    "        super(MNet, self).__init__()\n",
    "        self.l1 = torch.nn.Linear(28*28, 100)\n",
    "        self.l2 = torch.nn.Linear(100, 50)\n",
    "        self.l3 = torch.nn.Linear(50, 10)\n",
    "    \n",
    "    def forward(self, x):\n",
    "        out = torch.relu(self.l1(x))\n",
    "        out = torch.relu(self.l2(out))\n",
    "        return self.l3(out)\n",
    "\n",
    "mdl = to_device(MNet(), device)\n",
    "mdl.load_state_dict(torch.load('./models/torch_mnist_net.pth'))\n",
    "mdl = mdl.eval()\n",
    "\n",
    "# mdl = to_device(MNet(), device)\n",
    "# crit = torch.nn.CrossEntropyLoss()\n",
    "# optimizer = torch.optim.Adam(mdl.parameters(), lr=0.01) \n",
    "# for epoch in range(10):\n",
    "#     pbar = tqdm(train_loader)\n",
    "#     for batch_id, (images, labels) in enumerate(pbar):  \n",
    "#         outputs = mdl(images.view(-1, 28*28))\n",
    "#         loss = F.cross_entropy(outputs, labels)\n",
    "#         optimizer.zero_grad()\n",
    "#         loss.backward()\n",
    "#         optimizer.step() \n",
    "#         if batch_id == len(train_loader) - 1:\n",
    "#             pbar.set_postfix({\"Test Accuracy\":dsa(test_loader, mdl)})\n",
    "# torch.save(mdl.state_dict(), \"models/torch_mnist_net.pth\")\n",
    "\n",
    "train_loader, test_loader = load_mnist(64, 10, device)\n",
    "# mdl = to_device(VGG('VGG16'), device)\n",
    "# mdl.load_state_dict(torch.load('./models/torch_cifar_vgg.pth'))\n",
    "# mdl = mdl.eval()\n",
    "\n",
    "# dataset_root = '/share/datasets/cifar10'\n",
    "# cifar10_train, cifar10_val, cifar10_test = load_cifar(dataset_root)\n",
    "# train_loader, val_loader, test_loader = toDeviceDataLoader(cifar10_train, cifar10_val, cifar10_test, device = device)"
   ]
  },
  {
   "cell_type": "code",
   "execution_count": 3,
   "metadata": {},
   "outputs": [],
   "source": [
    "def tnmean_(alphas):\n",
    "    less = - np.sqrt(2/np.pi) * torch.exp(-(alphas ** 2)/2) / (torch.erf(alphas/np.sqrt(2)) - 1)\n",
    "    more = np.sqrt(2/np.pi) / torch.special.erfcx(alphas/np.sqrt(2))\n",
    "    res = torch.where(alphas <= 0, less, more)\n",
    "    return torch.max(alphas, res)\n",
    "\n",
    "def tnmean(means, stds, mins):\n",
    "    alphas = (mins - means)/stds\n",
    "    return means + tnmean_(alphas) * stds\n",
    "\n",
    "def tnmom2(alphas):\n",
    "    return 1 + np.sqrt(2/np.pi) * alphas / torch.special.erfcx(alphas/np.sqrt(2))\n",
    "\n",
    "def tnvar_(alphas):\n",
    "    m1 = tnmean_(alphas)\n",
    "    m2 = torch.sqrt(tnmom2(alphas))\n",
    "    return (m2 - m1) * (m2 + m1)\n",
    "\n",
    "def tnvar(means, stds, mins):\n",
    "    alphas = (mins - means)/stds\n",
    "    return tnvar_(alphas) * (stds ** 2)\n",
    "\n",
    "def tnmv(means, stds, mins): # 448 µs ± 4.93 µs vs. 781 µs ± 2 µs\n",
    "    alphas = (mins - means)/stds\n",
    "    aerfcx = torch.special.erfcx(alphas/np.sqrt(2))\n",
    "    aerf = torch.erf(alphas/np.sqrt(2))\n",
    "    mean_adjs = torch.max(alphas, np.sqrt(2/np.pi) * torch.where(alphas <= 0, - torch.exp(-(alphas ** 2)/2)/(aerf - 1), 1/aerfcx))\n",
    "    m2 = torch.sqrt(1 + np.sqrt(2/np.pi) * alphas / aerfcx)\n",
    "    var_adjs = (m2 - mean_adjs)/(m2 + mean_adjs)\n",
    "    return torch.sum(means + mean_adjs * stds, dim = -1), torch.sum(var_adjs * (stds ** 2), dim = -1)\n",
    "\n",
    "def gaussian_cdf(means, variances):\n",
    "    return (1 + torch.erf(-means/(torch.sqrt(variances) * np.sqrt(2))))/2"
   ]
  },
  {
   "cell_type": "code",
   "execution_count": 4,
   "metadata": {},
   "outputs": [],
   "source": [
    "class RectGaussianTensor:\n",
    "    def __init__(self, means: torch.Tensor, variances: torch.Tensor, mins = None, maxs = None):\n",
    "        self.batch_size = means.shape[0]\n",
    "        if mins is None:\n",
    "            self.num_gaussians = 1\n",
    "            self.tensor_shape = means.shape[1:]\n",
    "            self.means = means.unsqueeze(1)\n",
    "            self.variances = variances.unsqueeze(1)\n",
    "            self.mins = - torch.ones_like(self.means, device = means.device) * float(\"Inf\")\n",
    "            self.maxs = torch.ones_like(self.means, device = means.device) * float(\"Inf\")\n",
    "        else: \n",
    "            self.num_gaussians = means.shape[1]\n",
    "            self.tensor_shape = means.shape[2:]\n",
    "            self.means = means\n",
    "            self.variances = variances\n",
    "            self.mins = mins\n",
    "            self.maxs = maxs\n",
    "\n",
    "    def __repr__(self):\n",
    "        return 'N({}, {}, {}, {})'.format(self.means, self.variances, self.mins, self.maxs)\n",
    "    \n",
    "    def __getitem__(self, key):\n",
    "        return RectGaussianTensor(self.means[key: key + 1], self.variances[key: key + 1], self.mins[key: key + 1], self.maxs[key: key + 1])\n",
    "    \n",
    "    def __neg__(self):\n",
    "        self.mins = - self.mins\n",
    "        self.maxs = - self.maxs\n",
    "        self.means = - self.means\n",
    "    \n",
    "    def __add__(self, other):\n",
    "        if isinstance(other, self.__class__):\n",
    "            return RectGaussianTensor(torch.cat((self.means, other.means)), torch.cat((self.variances, other.variances)), torch.cat((self.mins, other.mins)), torch.cat((self.maxs, other.maxs)))\n",
    "        elif isinstance(other, (int, float)):\n",
    "            return RectGaussianTensor(self.means + other, self.variances, self.mins + other, self.maxs + other)\n",
    "        elif isinstance(other, torch.Tensor):\n",
    "            assert other.shape == self.tensor_shape\n",
    "            return RectGaussianTensor(self.means + other, self.variances, self.mins + other, self.maxs + other)\n",
    "        else:\n",
    "            raise TypeError(f\"Unsupported operand type(s) for +/-: '{self.__class__}' and '{type(other)}'\")\n",
    "    __radd__ = __add__\n",
    "\n",
    "    def __sub__(self, other):\n",
    "        return self + -other\n",
    "    def __rsub__(self, other):\n",
    "        return -self + other\n",
    "    \n",
    "    def __mul__(self, other):\n",
    "        if isinstance(other, (int, float, torch.Tensor)):\n",
    "            return RectGaussianTensor(other * self.means, (other ** 2) * self.variances, other * self.mins, other * self.maxs)\n",
    "        else:\n",
    "            raise TypeError(f\"Unsupported operand type(s) for *: '{self.__class__}' and '{type(other)}'\")\n",
    "    __rmul__ = __mul__\n",
    "\n",
    "    def __matmul__(self, other):\n",
    "        if isinstance(other, torch.Tensor):\n",
    "            assert len(self.tensor_shape) == 1\n",
    "            return sum([RectGaussianTensor(self.means[:,:,i:i+1] @ other[:,i].T, self.variances[:,:,i:i+1] @ (other[:,i] **2).T, self.mins[:,:,i:i+1] @ other[:,i].T, self.maxs[:,:,i:i+1] @ other[:,i].T) for i in range(self.tensor_shape[0])])\n",
    "        else:\n",
    "            raise TypeError(f\"Unsupported operand type(s) for *: '{self.__class__}' and '{type(other)}'\")\n",
    "    \n",
    "    def flatten(self):\n",
    "        return RectGaussianTensor(self.means.view(self.batch_size, self.num_gaussians, -1), self.variances.view(self.batch_size, self.num_gaussians, -1), self.mins.view(self.batch_size, self.num_gaussians, -1), self.maxs.view(self.batch_size, self.num_gaussians, -1))\n",
    "    \n",
    "    def relu(self):\n",
    "        return RectGaussianTensor(self.means, self.variances, torch.relu(self.mins), torch.relu(self.maxs))"
   ]
  },
  {
   "cell_type": "code",
   "execution_count": 5,
   "metadata": {},
   "outputs": [],
   "source": [
    "class TruncGaussianPMTensor:\n",
    "    def __init__(self, means: torch.Tensor, variances: torch.Tensor, mins = None, pm_sizes = None, pm_locs = None, pm_tot_sizes = None):\n",
    "        self.batch_size = means.shape[0]\n",
    "        self.tensor_shape = means.shape[1:]\n",
    "        self.means = means\n",
    "        if isinstance(variances, float):\n",
    "            self.variances = variances * torch.ones_like(self.means, device = means.device)\n",
    "        else:\n",
    "            self.variances = variances\n",
    "        if mins is None:\n",
    "            self.mins = - torch.ones_like(self.means, device = means.device) * float(\"Inf\")\n",
    "            self.pm_sizes = torch.tensor([])\n",
    "            self.pm_locs = torch.tensor([])\n",
    "            self.pm_tot_sizes = torch.tensor([])\n",
    "        else: \n",
    "            self.mins = mins\n",
    "            self.pm_sizes = pm_sizes\n",
    "            self.pm_locs = pm_locs\n",
    "            self.pm_tot_sizes = pm_tot_sizes\n",
    "\n",
    "    def __repr__(self):\n",
    "        return 'N({}, {}, {}, {}, {})'.format(self.means, self.variances, self.mins, self.pm_sizes, self.pm_locs)\n",
    "    \n",
    "    def __getitem__(self, key):\n",
    "        return TruncGaussianPMTensor(self.means[key: key + 1], self.variances[key: key + 1], self.mins[key: key + 1], self.pm_sizes[key: key + 1], self.pm_locs[key: key + 1], self.pm_tot_sizes[key: key + 1])\n",
    "    \n",
    "    def __neg__(self):\n",
    "        self.mins = - self.mins\n",
    "        self.maxs = - self.maxs\n",
    "        self.means = - self.means\n",
    "        self.pm_locs = - self.pm_locs\n",
    "    \n",
    "    def __add__(self, other):\n",
    "        if isinstance(other, self.__class__):\n",
    "            raise TypeError(f\"Unsupported addition of two '{self.__class__}'\")\n",
    "        elif isinstance(other, (int, float)):\n",
    "            return TruncGaussianPMTensor(self.means + other, self.variances, self.mins + other, self.pm_sizes, self.pm_locs + other if len(self.pm_locs) > 0 else self.pm_locs, self.pm_tot_sizes)\n",
    "        elif isinstance(other, torch.Tensor):\n",
    "            #assert other.shape == self.tensor_shape\n",
    "            return TruncGaussianPMTensor(self.means + other, self.variances, self.mins + other, self.pm_sizes, self.pm_locs + other.view(1, other.shape[0], 1).repeat((self.batch_size, 1, self.pm_locs.shape[2])) if len(self.pm_locs) > 0 else self.pm_locs, self.pm_tot_sizes)\n",
    "        else:\n",
    "            raise TypeError(f\"Unsupported operand type(s) for +/-: '{self.__class__}' and '{type(other)}'\")\n",
    "    __radd__ = __add__\n",
    "\n",
    "    def __sub__(self, other):\n",
    "        return self + -other\n",
    "    def __rsub__(self, other):\n",
    "        return -self + other\n",
    "    \n",
    "    def __mul__(self, other):\n",
    "        if isinstance(other, (int, float, torch.Tensor)):\n",
    "            raise NotImplementedError\n",
    "            #return TruncGaussianPMTensor(other * self.means, (other ** 2) * self.variances, other * self.mins, self.pm_sizes, other * self.pm_locs, self.pm_tot_sizes)\n",
    "        else:\n",
    "            raise TypeError(f\"Unsupported operand type(s) for *: '{self.__class__}' and '{type(other)}'\")\n",
    "    __rmul__ = __mul__\n",
    "\n",
    "    def __matmul__(self, other):\n",
    "        if isinstance(other, torch.Tensor):\n",
    "            assert len(self.tensor_shape) == 1\n",
    "            if torch.all(self.mins == - float(\"Inf\")):\n",
    "                return TruncGaussianPMTensor(self.means @ other.T, self.variances @ (other ** 2).T, - float(\"Inf\") * torch.ones([self.batch_size, other.shape[0]], device = self.mins.device), self.pm_sizes, self.pm_locs, self.pm_tot_sizes)\n",
    "            else:\n",
    "                temp_means = torch.cat([(self.means[:,i:i+1] * other[:,i]).unsqueeze(2) for i in range(self.tensor_shape[0])], dim = 2)\n",
    "                temp_variances = torch.cat([(self.variances[:,i:i+1] * (other[:,i] ** 2)).unsqueeze(2) for i in range(self.tensor_shape[0])], dim = 2)\n",
    "                temp_mins = torch.cat([(self.mins[:,i:i+1] * other[:,i]).unsqueeze(2) for i in range(self.tensor_shape[0])], dim = 2)\n",
    "                self.temp_means = temp_means\n",
    "                self.temp_variances = temp_variances\n",
    "                self.temp_mins = temp_mins\n",
    "                means, variances = tnmv(temp_means, temp_variances, temp_mins)\n",
    "                #print(temp_means.sum(dim = 2)[0,0])\n",
    "                #print(means[0,0])\n",
    "                mins = - float(\"Inf\") * torch.ones_like(means)\n",
    "                # if self.pm_sizes.shape[2] == 1:\n",
    "                #     print('hi')\n",
    "                #     return TruncGaussianPMTensor(means, variances, mins, self.pm_sizes, self.pm_locs, self.pm_tot_sizes)\n",
    "                # else:\n",
    "                pm_locs = torch.einsum('ijk, lj -> ilkj', self.pm_locs, other).reshape(self.batch_size, means.shape[1], -1)\n",
    "                pm_sizes = self.pm_sizes.permute(0, 2, 1).unsqueeze(1).repeat(1, means.shape[1], 1, 1).reshape(self.batch_size, means.shape[1], -1)/self.tensor_shape[0]\n",
    "                pm_tot_sizes = torch.sum(self.pm_tot_sizes, dim = 1, keepdim = True).repeat(1, means.shape[1])/self.tensor_shape[0]\n",
    "                return TruncGaussianPMTensor(means, variances, mins, pm_sizes, pm_locs, pm_tot_sizes)\n",
    "                #means = torch.cat([(self.means[:,i:i+1] * other[:,i]).unsqueeze(1) for i in range(self.tensor_shape[0])], dim = 1)\n",
    "                #variances = torch.cat([(self.variances[:,i:i+1] * (other[:,i] ** 2)).unsqueeze(1) for i in range(self.tensor_shape[0])], dim = 1)\n",
    "                #mins = torch.cat([(self.mins[:,i:i+1] * other[:,i]).unsqueeze(1) for i in range(self.tensor_shape[0])], dim = 1)\n",
    "                #return TruncGaussianPMTensor(means, variances, mins, self.pm_sizes, self.pm_locs, self.pm_tot_sizes)\n",
    "\n",
    "        else:\n",
    "            raise TypeError(f\"Unsupported operand type(s) for *: '{self.__class__}' and '{type(other)}'\")\n",
    "    \n",
    "    def flatten(self):\n",
    "        return TruncGaussianPMTensor(self.means.view(self.batch_size, -1), self.variances.view(self.batch_size, -1), self.mins.view(self.batch_size, -1), self.pm_sizes.view(self.batch_size, -1), self.pm_locs.view(self.batch_size, -1), self.tot_sizes)\n",
    "    \n",
    "    def relu(self):\n",
    "        gcdf = gaussian_cdf(self.means, self.variances)\n",
    "        if len(self.pm_sizes) == 0:\n",
    "            pm_sizes = gcdf.unsqueeze(2)\n",
    "            pm_locs = torch.zeros_like(pm_sizes)\n",
    "            pm_tot_sizes = gcdf\n",
    "        else:\n",
    "            pm_pos_sizes = torch.where(self.pm_locs > 0, self.pm_sizes, 0)\n",
    "            pm_neg_sizes = torch.where(self.pm_locs > 0, 0, self.pm_sizes)\n",
    "            pm_zero = (torch.sum(pm_neg_sizes, dim = 2) + gcdf * (1 - self.pm_tot_sizes)).unsqueeze(2)\n",
    "            pm_sizes = torch.cat((pm_pos_sizes, pm_zero), dim = 2)\n",
    "            pm_locs = torch.cat((self.pm_locs, torch.zeros_like(pm_zero)), dim = 2)\n",
    "            pm_tot_sizes = self.pm_tot_sizes + gcdf * (1 - self.pm_tot_sizes)\n",
    "        return TruncGaussianPMTensor(self.means, self.variances, torch.relu(self.mins), pm_sizes, pm_locs, pm_tot_sizes)\n",
    "\n",
    "    def sample(self, N):\n",
    "        normals = torch.max(self.mins.unsqueeze(2).expand([*self.means.shape, N]), torch.sqrt(self.variances).unsqueeze(2).expand([*self.means.shape, N]) * torch.randn([*self.means.shape, N], device = self.means.device) + self.means.unsqueeze(2).expand([*self.means.shape, N]))\n",
    "        if len(self.pm_sizes) == 0:\n",
    "            return normals\n",
    "        if torch.all(self.mins == -float('Inf')):\n",
    "            fixed_pm_sizes = torch.cat((self.pm_sizes[:,:,:-1], torch.where(self.pm_sizes.sum(dim = 2) == 0, 1, self.pm_sizes[:,:,-1]).unsqueeze(2)), dim = 2)\n",
    "            pm_tot_sizes = self.pm_tot_sizes\n",
    "        else:\n",
    "            if self.pm_sizes.shape[2] == 1:\n",
    "                pm_tot_sizes = torch.zeros_like(self.pm_tot_sizes)\n",
    "                fixed_pm_sizes = torch.ones_like(self.pm_sizes)\n",
    "            else:\n",
    "                gcdf = gaussian_cdf(self.means, self.variances)\n",
    "                #pm_tot_sizes = self.pm_tot_sizes\n",
    "                pm_tot_sizes = (self.pm_tot_sizes - gcdf)/(1-gcdf)\n",
    "                adj_pm_sizes = torch.cat((self.pm_sizes[:,:,:-1], (self.pm_sizes[:,:,-1] - gcdf * (1 - pm_tot_sizes)).unsqueeze(2)), dim = 2)\n",
    "                fixed_pm_sizes = torch.cat((adj_pm_sizes[:,:,:-1], torch.where(adj_pm_sizes.sum(dim = 2) == 0, 1, adj_pm_sizes[:,:,-1]).unsqueeze(2)), dim = 2)\n",
    "        pm_idx = torch.multinomial(fixed_pm_sizes.reshape(-1, self.pm_sizes.shape[2]), N, replacement = True).reshape(self.batch_size, self.tensor_shape[0], -1)\n",
    "        pms = self.pm_locs[torch.arange(self.batch_size).reshape(self.batch_size, 1, 1).repeat(1, self.tensor_shape[0], N), torch.arange(self.tensor_shape[0]).reshape(1, self.tensor_shape[0], 1).repeat(self.batch_size, 1, N), pm_idx]\n",
    "        #gpm_ratio = torch.rand([*self.means.shape, N], device = self.means.device)\n",
    "        #return torch.where(gpm_ratio > pm_tot_sizes.unsqueeze(2).expand([*self.means.shape, N]), normals, pms)\n",
    "        return torch.sum((self.pm_sizes * self.pm_locs), dim = 2, keepdim = True).expand([*self.means.shape, N]) + normals * (1 - pm_tot_sizes.unsqueeze(2).expand([*self.means.shape, N]))\n"
   ]
  },
  {
   "cell_type": "code",
   "execution_count": 6,
   "metadata": {},
   "outputs": [],
   "source": [
    "x, y = next(iter(train_loader))\n",
    "x = x.view(-1, 28*28).to(device)"
   ]
  },
  {
   "cell_type": "code",
   "execution_count": 7,
   "metadata": {},
   "outputs": [],
   "source": [
    "t = TruncGaussianPMTensor(means = x, variances = 0.1)\n",
    "t1 = t @ mdl.l1.weight + mdl.l1.bias\n",
    "t1r = t1.relu()\n",
    "t2w = t1r @ mdl.l2.weight\n",
    "t2 = t2w + mdl.l2.bias\n",
    "t2r = t2.relu()\n",
    "t3 = t2r @ mdl.l3.weight + mdl.l3.bias"
   ]
  },
  {
   "cell_type": "code",
   "execution_count": 16,
   "metadata": {},
   "outputs": [],
   "source": [
    "def sample_mdl(mdl, x, variance, i, j, N = 10000, level = None):\n",
    "    if level == '1w':\n",
    "        print(((x + np.sqrt(variance) * torch.randn_like(x)) @ mdl.l1.weight.T).shape)\n",
    "        return torch.tensor([((x + np.sqrt(variance) * torch.randn_like(x)) @ mdl.l1.weight.T)[i][j] for _ in range(N)])\n",
    "    elif level == '1':\n",
    "        return torch.tensor([((x + np.sqrt(variance) * torch.randn_like(x)) @ mdl.l1.weight.T + mdl.l1.bias)[i][j] for _ in range(N)])\n",
    "    elif level == '1r':\n",
    "        return torch.tensor([torch.relu((x + np.sqrt(variance) * torch.randn_like(x)) @ mdl.l1.weight.T + mdl.l1.bias)[i][j] for _ in range(N)])\n",
    "    elif level == '2w':\n",
    "        return torch.tensor([(torch.relu((x + np.sqrt(variance) * torch.randn_like(x)) @ mdl.l1.weight.T + mdl.l1.bias) @ mdl.l2.weight.T)[i][j] for _ in range(N)])\n",
    "    elif level == '2':\n",
    "        return torch.tensor([(torch.relu((x + np.sqrt(variance) * torch.randn_like(x)) @ mdl.l1.weight.T + mdl.l1.bias) @ mdl.l2.weight.T + mdl.l2.bias)[i][j] for _ in range(N)])\n",
    "    elif level == '2r':\n",
    "        return torch.tensor([torch.relu(torch.relu((x + np.sqrt(variance) * torch.randn_like(x)) @ mdl.l1.weight.T + mdl.l1.bias) @ mdl.l2.weight.T + mdl.l2.bias)[i][j] for _ in range(N)])\n",
    "    elif level == '3w':\n",
    "        return torch.tensor([(torch.relu(torch.relu((x + np.sqrt(variance) * torch.randn_like(x)) @ mdl.l1.weight.T + mdl.l1.bias) @ mdl.l2.weight.T + mdl.l2.bias) @ mdl.l3.weight.T)[i][j] for _ in range(N)])\n",
    "    else:\n",
    "        return torch.tensor([mdl(x + np.sqrt(variance) * torch.randn_like(x))[i][j] for i in range(N)])"
   ]
  },
  {
   "cell_type": "code",
   "execution_count": 163,
   "metadata": {},
   "outputs": [],
   "source": [
    "t3_samples = t3.sample(10000)[0,0].cpu().detach()"
   ]
  },
  {
   "cell_type": "code",
   "execution_count": 160,
   "metadata": {},
   "outputs": [],
   "source": [
    "n3_samples = torch.tensor([mdl(x + np.sqrt(0.1) * torch.randn_like(x))[0][0]  for i in range(10000)])"
   ]
  },
  {
   "cell_type": "code",
   "execution_count": 38,
   "metadata": {},
   "outputs": [],
   "source": [
    "t2w_samples = t2w.sample(10000)[0,0].cpu().detach()"
   ]
  },
  {
   "cell_type": "code",
   "execution_count": 39,
   "metadata": {},
   "outputs": [],
   "source": [
    "n2w_samples = torch.tensor([(torch.relu((x + np.sqrt(0.1) * torch.randn_like(x)) @ mdl.l1.weight.T + mdl.l1.bias) @ mdl.l2.weight.T)[0,0] for i in range(10000)])"
   ]
  },
  {
   "cell_type": "code",
   "execution_count": 151,
   "metadata": {},
   "outputs": [],
   "source": [
    "n2_samples = torch.tensor([(torch.relu((x + np.sqrt(0.1) * torch.randn_like(x)) @ mdl.l1.weight.T + mdl.l1.bias) @ mdl.l2.weight.T + mdl.l2.bias )[0,1] for i in range(10000)])\n",
    "t2_samples = t2.sample(10000)[0,1].cpu().detach()"
   ]
  },
  {
   "cell_type": "code",
   "execution_count": 90,
   "metadata": {},
   "outputs": [],
   "source": [
    "n1_samples = torch.tensor([(torch.relu((x + np.sqrt(0.1) * torch.randn_like(x)) @ mdl.l1.weight.T + mdl.l1.bias) @ mdl.l2.weight.T + mdl.l2.bias )[0,0] for i in range(10000)])\n",
    "t1_samples = t2.sample(10000)[0,0].cpu().detach()"
   ]
  },
  {
   "cell_type": "code",
   "execution_count": 28,
   "metadata": {},
   "outputs": [
    {
     "data": {
      "text/plain": [
       "(torch.Size([64, 50, 100]),\n",
       " torch.Size([64, 50, 100]),\n",
       " torch.Size([64, 50, 100]))"
      ]
     },
     "execution_count": 28,
     "metadata": {},
     "output_type": "execute_result"
    }
   ],
   "source": [
    "t1r.temp_variances.shape, t1r.temp_means.shape, t1r.temp_mins.shape"
   ]
  },
  {
   "cell_type": "code",
   "execution_count": 29,
   "metadata": {},
   "outputs": [],
   "source": [
    "test_samples = torch.max(torch.sqrt(t1r.temp_variances).unsqueeze(3).expand([*t1r.temp_variances.shape, 1000]) * torch.randn([*t1r.temp_means.shape, 1000]) + t1r.temp_means.unsqueeze(3).expand([*t1r.temp_variances.shape, 1000]), t1r.temp_mins.unsqueeze(3).expand([*t1r.temp_variances.shape, 1000]))"
   ]
  },
  {
   "cell_type": "code",
   "execution_count": 32,
   "metadata": {},
   "outputs": [
    {
     "data": {
      "text/plain": [
       "torch.Size([64, 100])"
      ]
     },
     "execution_count": 32,
     "metadata": {},
     "output_type": "execute_result"
    }
   ],
   "source": [
    "t1r.pm_tot_sizes.shape"
   ]
  },
  {
   "cell_type": "code",
   "execution_count": 44,
   "metadata": {},
   "outputs": [],
   "source": [
    "gcdf = gaussian_cdf(t1r.means, t1r.variances)"
   ]
  },
  {
   "cell_type": "code",
   "execution_count": 49,
   "metadata": {},
   "outputs": [
    {
     "data": {
      "text/plain": [
       "torch.Size([64, 50, 1000])"
      ]
     },
     "execution_count": 49,
     "metadata": {},
     "output_type": "execute_result"
    }
   ],
   "source": [
    "torch.sum(test_samples, dim = 2)"
   ]
  },
  {
   "cell_type": "code",
   "execution_count": 45,
   "metadata": {},
   "outputs": [],
   "source": [
    "test_samples_ = torch.sum(test_samples, dim = 2)[0][0] * (1 - gcdf.unsqueeze(2).expand([*t1r.pm_tot_sizes.shape, 1000]))"
   ]
  },
  {
   "cell_type": "code",
   "execution_count": 46,
   "metadata": {},
   "outputs": [
    {
     "data": {
      "text/plain": [
       "(array([   0.,    0.,    0.,    0.,    0.,    0.,    0.,    0.,    0.,\n",
       "           0.,    0.,    0., 1000.,    0.,    0.,    0.,    0.,    0.,\n",
       "           0.,    0.,    0.,    0.,    0.,    0.,    0.]),\n",
       " array([-0.5       , -0.46000001, -0.41999999, -0.38      , -0.34      ,\n",
       "        -0.30000001, -0.25999999, -0.22      , -0.18000001, -0.14      ,\n",
       "        -0.1       , -0.06      , -0.02      ,  0.02      ,  0.06      ,\n",
       "         0.1       ,  0.14      ,  0.18000001,  0.22      ,  0.25999999,\n",
       "         0.30000001,  0.34      ,  0.38      ,  0.41999999,  0.46000001,\n",
       "         0.5       ]),\n",
       " <BarContainer object of 25 artists>)"
      ]
     },
     "execution_count": 46,
     "metadata": {},
     "output_type": "execute_result"
    },
    {
     "data": {
      "image/png": "[encoded data removed]",
      "text/plain": [
       "<Figure size 640x480 with 1 Axes>"
      ]
     },
     "metadata": {},
     "output_type": "display_data"
    }
   ],
   "source": [
    "plt.hist(test_samples_.detach()[0][0], bins = 25)"
   ]
  },
  {
   "cell_type": "code",
   "execution_count": 87,
   "metadata": {},
   "outputs": [
    {
     "data": {
      "text/plain": [
       "tensor(718.1426, grad_fn=<SelectBackward0>)"
      ]
     },
     "execution_count": 87,
     "metadata": {},
     "output_type": "execute_result"
    }
   ],
   "source": [
    "t2.means[0,0]"
   ]
  },
  {
   "cell_type": "code",
   "execution_count": 170,
   "metadata": {},
   "outputs": [
    {
     "data": {
      "text/plain": [
       "(tensor(42.2199), tensor(5.0513))"
      ]
     },
     "execution_count": 170,
     "metadata": {},
     "output_type": "execute_result"
    }
   ],
   "source": [
    "torch.mean(t2_samples), torch.std(t2_samples)"
   ]
  },
  {
   "cell_type": "code",
   "execution_count": 169,
   "metadata": {},
   "outputs": [
    {
     "data": {
      "text/plain": [
       "(tensor(-85.8451), tensor(11.0737))"
      ]
     },
     "execution_count": 169,
     "metadata": {},
     "output_type": "execute_result"
    }
   ],
   "source": [
    "torch.mean(n2_samples), torch.std(n2_samples)"
   ]
  },
  {
   "cell_type": "code",
   "execution_count": 40,
   "metadata": {},
   "outputs": [
    {
     "data": {
      "image/png": "[encoded data removed]",
      "text/plain": [
       "<Figure size 640x480 with 1 Axes>"
      ]
     },
     "metadata": {},
     "output_type": "display_data"
    }
   ],
   "source": [
    "plt.hist(t2w_samples, bins = 60);"
   ]
  },
  {
   "cell_type": "code",
   "execution_count": 41,
   "metadata": {},
   "outputs": [
    {
     "data": {
      "image/png": "[encoded data removed]",
      "text/plain": [
       "<Figure size 640x480 with 1 Axes>"
      ]
     },
     "metadata": {},
     "output_type": "display_data"
    }
   ],
   "source": [
    "plt.hist(n2w_samples, bins = 60);\n",
    "#plt.hist(t2_samples, bins = 60);"
   ]
  },
  {
   "cell_type": "code",
   "execution_count": 22,
   "metadata": {},
   "outputs": [
    {
     "data": {
      "text/plain": [
       "tensor([42])"
      ]
     },
     "execution_count": 22,
     "metadata": {},
     "output_type": "execute_result"
    }
   ],
   "source": [
    "torch.argmax((((t1r.pm_sizes > 0.3) * (t1r.pm_sizes < 0.4)) + 1)[14,:], dim = 0)"
   ]
  },
  {
   "cell_type": "code",
   "execution_count": 56,
   "metadata": {},
   "outputs": [
    {
     "data": {
      "text/plain": [
       "tensor([0.3218], grad_fn=<SelectBackward0>)"
      ]
     },
     "execution_count": 56,
     "metadata": {},
     "output_type": "execute_result"
    }
   ],
   "source": [
    "t1r.pm_sizes[15,73]"
   ]
  },
  {
   "cell_type": "code",
   "execution_count": 66,
   "metadata": {},
   "outputs": [
    {
     "data": {
      "text/plain": [
       "(tensor(3208), tensor(3234))"
      ]
     },
     "execution_count": 66,
     "metadata": {},
     "output_type": "execute_result"
    }
   ],
   "source": [
    "torch.sum(t1r_samples == 0), torch.sum(n1r_samples == 0)"
   ]
  },
  {
   "cell_type": "code",
   "execution_count": 23,
   "metadata": {},
   "outputs": [],
   "source": [
    "n1r_samples = sample_mdl(mdl, x, 0.1, 14, 42, 10000, '1r')"
   ]
  },
  {
   "cell_type": "code",
   "execution_count": 24,
   "metadata": {},
   "outputs": [],
   "source": [
    "t1r_samples = t1r.sample(10000)[14, 42].cpu().detach()"
   ]
  },
  {
   "cell_type": "code",
   "execution_count": 25,
   "metadata": {},
   "outputs": [
    {
     "data": {
      "image/png": "[encoded data removed]",
      "text/plain": [
       "<Figure size 640x480 with 1 Axes>"
      ]
     },
     "metadata": {},
     "output_type": "display_data"
    }
   ],
   "source": [
    "plt.hist(n1r_samples, bins = 60);\n",
    "plt.hist(t1r_samples, bins = 60);"
   ]
  },
  {
   "cell_type": "code",
   "execution_count": 23,
   "metadata": {},
   "outputs": [
    {
     "data": {
      "text/plain": [
       "tensor(93.2695, device='cuda:1', grad_fn=<SelectBackward0>)"
      ]
     },
     "execution_count": 23,
     "metadata": {},
     "output_type": "execute_result"
    }
   ],
   "source": [
    "t1r.means[0,18]"
   ]
  },
  {
   "cell_type": "code",
   "execution_count": 10,
   "metadata": {},
   "outputs": [
    {
     "data": {
      "text/plain": [
       "tensor(1., device='cuda:1', grad_fn=<DivBackward0>)"
      ]
     },
     "execution_count": 10,
     "metadata": {},
     "output_type": "execute_result"
    }
   ],
   "source": [
    "gaussian_cdf(t1.means[0, 25], t1.variances[0, 25])"
   ]
  },
  {
   "cell_type": "code",
   "execution_count": 120,
   "metadata": {},
   "outputs": [
    {
     "data": {
      "text/plain": [
       "tensor(0., device='cuda:0', grad_fn=<SelectBackward0>)"
      ]
     },
     "execution_count": 120,
     "metadata": {},
     "output_type": "execute_result"
    }
   ],
   "source": [
    "t1r.pm_tot_sizes[0,25]"
   ]
  },
  {
   "cell_type": "code",
   "execution_count": 226,
   "metadata": {},
   "outputs": [],
   "source": [
    "ta = torch.tensor([[[1, 2, 3, 4, 5], [6, 7, 8, 9, 10], [11, 12, 13, 14, 15]], [[16, 17, 18, 19, 20], [21, 22, 23, 24, 25], [26, 27, 28, 29, 30]]]) # [torch.tensor([[[1, 1, 1, 2, 3], [2, 4, 1, 2, 3], [0, 4, 3, 2, 1]], [[1, 4, 3, 2, 0], [1, 1, 2, 2, 3], [0, 1, 2, 3, 4]]])]"
   ]
  },
  {
   "cell_type": "code",
   "execution_count": 237,
   "metadata": {},
   "outputs": [
    {
     "data": {
      "text/plain": [
       "tensor([[ 8, 29],\n",
       "        [ 1, 22]])"
      ]
     },
     "execution_count": 237,
     "metadata": {},
     "output_type": "execute_result"
    }
   ],
   "source": [
    "ta[[[0, 1], [0, 1]], [[1, 2], [0, 1]], [[2, 3], [0, 1]]]"
   ]
  },
  {
   "cell_type": "code",
   "execution_count": 231,
   "metadata": {},
   "outputs": [],
   "source": [
    "idx = torch.multinomial(torch.ones((6, 5), dtype = torch.float), num_samples = 10, replacement = True).reshape(2, 3, -1)"
   ]
  },
  {
   "cell_type": "code",
   "execution_count": 240,
   "metadata": {},
   "outputs": [],
   "source": [
    "idx = torch.multinomial(torch.ones((640, 3), dtype = torch.float), num_samples = 12, replacement = True).reshape(64, 10, -1)"
   ]
  },
  {
   "cell_type": "code",
   "execution_count": 243,
   "metadata": {},
   "outputs": [
    {
     "data": {
      "text/plain": [
       "tensor([[[0.5980, 0.1220, 0.1220,  ..., 0.1220, 0.5980, 0.1948],\n",
       "         [0.4625, 0.4625, 0.4625,  ..., 0.3585, 0.2253, 0.3585],\n",
       "         [0.2492, 0.6261, 0.3214,  ..., 0.2492, 0.2492, 0.6261],\n",
       "         ...,\n",
       "         [0.7440, 0.8565, 0.8565,  ..., 0.7440, 0.7440, 0.7440],\n",
       "         [0.1570, 0.1570, 0.1570,  ..., 0.7300, 0.7300, 0.7300],\n",
       "         [0.4100, 0.8105, 0.4100,  ..., 0.4100, 0.4100, 0.9026]],\n",
       "\n",
       "        [[0.3091, 0.3091, 0.3091,  ..., 0.3091, 0.1529, 0.1529],\n",
       "         [0.6938, 0.6938, 0.8177,  ..., 0.8177, 0.1588, 0.1588],\n",
       "         [0.7722, 0.7722, 0.7722,  ..., 0.4112, 0.0699, 0.7722],\n",
       "         ...,\n",
       "         [0.2943, 0.2943, 0.3927,  ..., 0.3790, 0.2943, 0.3927],\n",
       "         [0.1151, 0.1151, 0.9310,  ..., 0.1151, 0.1151, 0.1151],\n",
       "         [0.3759, 0.3759, 0.4595,  ..., 0.4595, 0.1353, 0.1353]],\n",
       "\n",
       "        [[0.8478, 0.8478, 0.2941,  ..., 0.6054, 0.8478, 0.6054],\n",
       "         [0.5746, 0.5746, 0.4745,  ..., 0.5746, 0.5746, 0.4745],\n",
       "         [0.9483, 0.9483, 0.9483,  ..., 0.9483, 0.1970, 0.1725],\n",
       "         ...,\n",
       "         [0.5547, 0.7535, 0.7535,  ..., 0.5547, 0.5547, 0.5547],\n",
       "         [0.2274, 0.9152, 0.9152,  ..., 0.9152, 0.3650, 0.2274],\n",
       "         [0.9758, 0.9758, 0.8809,  ..., 0.4587, 0.4587, 0.4587]],\n",
       "\n",
       "        ...,\n",
       "\n",
       "        [[0.1925, 0.1925, 0.1925,  ..., 0.7025, 0.5945, 0.1925],\n",
       "         [0.0547, 0.0547, 0.0547,  ..., 0.1830, 0.8997, 0.8997],\n",
       "         [0.0122, 0.3310, 0.0122,  ..., 0.7639, 0.3310, 0.0122],\n",
       "         ...,\n",
       "         [0.3461, 0.4457, 0.3461,  ..., 0.4457, 0.4457, 0.4457],\n",
       "         [0.3424, 0.6888, 0.3424,  ..., 0.6888, 0.3424, 0.3424],\n",
       "         [0.7136, 0.7136, 0.9035,  ..., 0.7136, 0.2120, 0.2120]],\n",
       "\n",
       "        [[0.2443, 0.2443, 0.2443,  ..., 0.0276, 0.0276, 0.2053],\n",
       "         [0.1368, 0.0665, 0.1368,  ..., 0.1368, 0.1368, 0.9725],\n",
       "         [0.7594, 0.7594, 0.2948,  ..., 0.7594, 0.7594, 0.7594],\n",
       "         ...,\n",
       "         [0.4638, 0.9430, 0.4638,  ..., 0.4638, 0.9430, 0.4638],\n",
       "         [0.5677, 0.9212, 0.6630,  ..., 0.5677, 0.5677, 0.5677],\n",
       "         [0.3988, 0.6591, 0.4830,  ..., 0.6591, 0.3988, 0.4830]],\n",
       "\n",
       "        [[0.0056, 0.7405, 0.7405,  ..., 0.3940, 0.3940, 0.7405],\n",
       "         [0.2487, 0.2487, 0.4743,  ..., 0.7074, 0.4743, 0.4743],\n",
       "         [0.7207, 0.7207, 0.7207,  ..., 0.3568, 0.3568, 0.7207],\n",
       "         ...,\n",
       "         [0.7396, 0.7396, 0.5598,  ..., 0.1963, 0.5598, 0.7396],\n",
       "         [0.7534, 0.0652, 0.0652,  ..., 0.9870, 0.9870, 0.7534],\n",
       "         [0.1625, 0.8584, 0.9322,  ..., 0.9322, 0.9322, 0.8584]]])"
      ]
     },
     "execution_count": 243,
     "metadata": {},
     "output_type": "execute_result"
    }
   ],
   "source": [
    "torch.rand(64, 10, 100)[torch.arange(64).reshape(64, 1, 1).repeat(1, 10, 12), torch.arange(10).reshape(1, 10, 1).repeat(64, 1, 12), idx]"
   ]
  },
  {
   "cell_type": "code",
   "execution_count": 162,
   "metadata": {},
   "outputs": [],
   "source": [
    "a = torch.randn(100, 5, 35)"
   ]
  },
  {
   "cell_type": "code",
   "execution_count": 186,
   "metadata": {},
   "outputs": [
    {
     "data": {
      "text/plain": [
       "torch.Size([100, 5, 35])"
      ]
     },
     "execution_count": 186,
     "metadata": {},
     "output_type": "execute_result"
    }
   ],
   "source": [
    "a.shape"
   ]
  },
  {
   "cell_type": "code",
   "execution_count": 192,
   "metadata": {},
   "outputs": [
    {
     "data": {
      "text/plain": [
       "torch.Size([10000, 5, 1225])"
      ]
     },
     "execution_count": 192,
     "metadata": {},
     "output_type": "execute_result"
    }
   ],
   "source": [
    "a.repeat((100, 1, 35)).shape"
   ]
  },
  {
   "cell_type": "code",
   "execution_count": 165,
   "metadata": {},
   "outputs": [
    {
     "data": {
      "text/plain": [
       "torch.Size([8736])"
      ]
     },
     "execution_count": 165,
     "metadata": {},
     "output_type": "execute_result"
    }
   ],
   "source": [
    "a[a > 0]"
   ]
  },
  {
   "cell_type": "code",
   "execution_count": 161,
   "metadata": {},
   "outputs": [
    {
     "data": {
      "text/plain": [
       "torch.Size([10, 100, 33, 512])"
      ]
     },
     "execution_count": 161,
     "metadata": {},
     "output_type": "execute_result"
    }
   ],
   "source": [
    "torch.einsum('ijk, lj -> ilkj', torch.randn(10, 512, 33), torch.rand(100, 512)).shape"
   ]
  },
  {
   "cell_type": "code",
   "execution_count": 103,
   "metadata": {},
   "outputs": [
    {
     "data": {
      "text/plain": [
       "tensor(25, device='cuda:0')"
      ]
     },
     "execution_count": 103,
     "metadata": {},
     "output_type": "execute_result"
    }
   ],
   "source": [
    "torch.sum(t1r[0].sample(10000), dim = 2).argmax()"
   ]
  },
  {
   "cell_type": "code",
   "execution_count": 105,
   "metadata": {},
   "outputs": [
    {
     "data": {
      "text/plain": [
       "tensor([[172.5999, 155.2319, 194.5272,  ..., 212.3552,   0.0000, 199.7285]])"
      ]
     },
     "execution_count": 105,
     "metadata": {},
     "output_type": "execute_result"
    }
   ],
   "source": [
    "t1r_samples"
   ]
  },
  {
   "cell_type": "code",
   "execution_count": 90,
   "metadata": {},
   "outputs": [
    {
     "data": {
      "text/plain": [
       "tensor([0., 0., 0.,  ..., 0., 0., 0.])"
      ]
     },
     "execution_count": 90,
     "metadata": {},
     "output_type": "execute_result"
    }
   ],
   "source": [
    "n1r_samples"
   ]
  },
  {
   "cell_type": "code",
   "execution_count": 116,
   "metadata": {},
   "outputs": [
    {
     "data": {
      "text/plain": [
       "(array([1.676e+03, 0.000e+00, 0.000e+00, 0.000e+00, 0.000e+00, 0.000e+00,\n",
       "        0.000e+00, 0.000e+00, 0.000e+00, 0.000e+00, 2.000e+00, 6.000e+00,\n",
       "        9.600e+01, 6.060e+02, 1.838e+03, 2.779e+03, 2.079e+03, 7.530e+02,\n",
       "        1.490e+02, 1.600e+01]),\n",
       " array([  0.        ,  11.81116199,  23.62232399,  35.43348694,\n",
       "         47.24464798,  59.05580902,  70.86697388,  82.6781311 ,\n",
       "         94.48929596, 106.30045319, 118.11161804, 129.92277527,\n",
       "        141.73394775, 153.54510498, 165.35626221, 177.16741943,\n",
       "        188.97859192, 200.78974915, 212.60090637, 224.41207886,\n",
       "        236.22323608]),\n",
       " <BarContainer object of 20 artists>)"
      ]
     },
     "execution_count": 116,
     "metadata": {},
     "output_type": "execute_result"
    },
    {
     "data": {
      "image/png": "[encoded data removed]",
      "text/plain": [
       "<Figure size 640x480 with 1 Axes>"
      ]
     },
     "metadata": {},
     "output_type": "display_data"
    }
   ],
   "source": [
    "plt.hist(t1r_samples, bins = 20)"
   ]
  },
  {
   "cell_type": "code",
   "execution_count": 37,
   "metadata": {},
   "outputs": [
    {
     "data": {
      "text/plain": [
       "tensor(False, device='cuda:0')"
      ]
     },
     "execution_count": 37,
     "metadata": {},
     "output_type": "execute_result"
    }
   ],
   "source": [
    "torch.all(t2r.pm_tot_sizes <= 1)"
   ]
  },
  {
   "cell_type": "code",
   "execution_count": 107,
   "metadata": {},
   "outputs": [],
   "source": [
    "n1r_samples = torch.tensor([torch.relu((x + np.sqrt(0.1) * torch.randn_like(x)) @ mdl.l1.weight.T + mdl.l1.bias)[0,25] for i in range(10000)])"
   ]
  },
  {
   "cell_type": "code",
   "execution_count": 73,
   "metadata": {},
   "outputs": [
    {
     "ename": "AttributeError",
     "evalue": "'torch.Size' object has no attribute 'unique'",
     "output_type": "error",
     "traceback": [
      "\u001b[0;31m---------------------------------------------------------------------------\u001b[0m",
      "\u001b[0;31mAttributeError\u001b[0m                            Traceback (most recent call last)",
      "Cell \u001b[0;32mIn[73], line 1\u001b[0m\n\u001b[0;32m----> 1\u001b[0m t1r_samples\u001b[39m.\u001b[39;49munique()\n",
      "\u001b[0;31mAttributeError\u001b[0m: 'torch.Size' object has no attribute 'unique'"
     ]
    }
   ],
   "source": [
    "t1r_samples.unique()"
   ]
  },
  {
   "cell_type": "code",
   "execution_count": 108,
   "metadata": {},
   "outputs": [
    {
     "data": {
      "text/plain": [
       "tensor([131.6862, 136.8855, 137.3305,  ..., 232.9331, 233.1215, 247.7437])"
      ]
     },
     "execution_count": 108,
     "metadata": {},
     "output_type": "execute_result"
    }
   ],
   "source": [
    "n1r_samples.unique()"
   ]
  },
  {
   "cell_type": "code",
   "execution_count": 109,
   "metadata": {},
   "outputs": [
    {
     "data": {
      "text/plain": [
       "(array([3.000e+00, 1.000e+01, 2.500e+01, 1.170e+02, 2.960e+02, 5.510e+02,\n",
       "        9.840e+02, 1.372e+03, 1.643e+03, 1.699e+03, 1.362e+03, 9.780e+02,\n",
       "        5.520e+02, 2.380e+02, 1.180e+02, 4.000e+01, 8.000e+00, 3.000e+00,\n",
       "        0.000e+00, 1.000e+00]),\n",
       " array([131.68617249, 137.48904419, 143.29191589, 149.09480286,\n",
       "        154.89767456, 160.70054626, 166.50341797, 172.30628967,\n",
       "        178.10917664, 183.91204834, 189.71492004, 195.51779175,\n",
       "        201.32066345, 207.12355042, 212.92642212, 218.72929382,\n",
       "        224.53216553, 230.33503723, 236.13792419, 241.9407959 ,\n",
       "        247.7436676 ]),\n",
       " <BarContainer object of 20 artists>)"
      ]
     },
     "execution_count": 109,
     "metadata": {},
     "output_type": "execute_result"
    },
    {
     "data": {
      "image/png": "[encoded data removed]",
      "text/plain": [
       "<Figure size 640x480 with 1 Axes>"
      ]
     },
     "metadata": {},
     "output_type": "display_data"
    }
   ],
   "source": [
    "plt.hist(n1r_samples, bins = 20)"
   ]
  },
  {
   "cell_type": "code",
   "execution_count": 15,
   "metadata": {},
   "outputs": [
    {
     "data": {
      "text/plain": [
       "torch.Size([64, 100, 1])"
      ]
     },
     "execution_count": 15,
     "metadata": {},
     "output_type": "execute_result"
    }
   ],
   "source": [
    "t1r.pm_sizes.shape"
   ]
  },
  {
   "cell_type": "code",
   "execution_count": 13,
   "metadata": {},
   "outputs": [
    {
     "ename": "RuntimeError",
     "evalue": "invalid multinomial distribution (sum of probabilities <= 0)",
     "output_type": "error",
     "traceback": [
      "\u001b[0;31m---------------------------------------------------------------------------\u001b[0m",
      "\u001b[0;31mRuntimeError\u001b[0m                              Traceback (most recent call last)",
      "Cell \u001b[0;32mIn[13], line 1\u001b[0m\n\u001b[0;32m----> 1\u001b[0m t1r_samples \u001b[39m=\u001b[39m t1r[\u001b[39m0\u001b[39;49m]\u001b[39m.\u001b[39;49msample(\u001b[39m1\u001b[39;49m)\n",
      "Cell \u001b[0;32mIn[6], line 104\u001b[0m, in \u001b[0;36mTruncGaussianPMTensor.sample\u001b[0;34m(self, N)\u001b[0m\n\u001b[1;32m    102\u001b[0m gpm_ratio \u001b[39m=\u001b[39m torch\u001b[39m.\u001b[39mrand([\u001b[39m*\u001b[39m\u001b[39mself\u001b[39m\u001b[39m.\u001b[39mmeans\u001b[39m.\u001b[39mshape, N], device \u001b[39m=\u001b[39m \u001b[39mself\u001b[39m\u001b[39m.\u001b[39mmeans\u001b[39m.\u001b[39mdevice)\n\u001b[1;32m    103\u001b[0m normals \u001b[39m=\u001b[39m torch\u001b[39m.\u001b[39mmax(\u001b[39mself\u001b[39m\u001b[39m.\u001b[39mmins\u001b[39m.\u001b[39munsqueeze(\u001b[39m2\u001b[39m)\u001b[39m.\u001b[39mexpand([\u001b[39m*\u001b[39m\u001b[39mself\u001b[39m\u001b[39m.\u001b[39mmeans\u001b[39m.\u001b[39mshape, N]), torch\u001b[39m.\u001b[39msqrt(\u001b[39mself\u001b[39m\u001b[39m.\u001b[39mvariances)\u001b[39m.\u001b[39munsqueeze(\u001b[39m2\u001b[39m)\u001b[39m.\u001b[39mexpand([\u001b[39m*\u001b[39m\u001b[39mself\u001b[39m\u001b[39m.\u001b[39mmeans\u001b[39m.\u001b[39mshape, N]) \u001b[39m*\u001b[39m torch\u001b[39m.\u001b[39mrandn([\u001b[39m*\u001b[39m\u001b[39mself\u001b[39m\u001b[39m.\u001b[39mmeans\u001b[39m.\u001b[39mshape, N], device \u001b[39m=\u001b[39m \u001b[39mself\u001b[39m\u001b[39m.\u001b[39mmeans\u001b[39m.\u001b[39mdevice) \u001b[39m+\u001b[39m \u001b[39mself\u001b[39m\u001b[39m.\u001b[39mmeans\u001b[39m.\u001b[39munsqueeze(\u001b[39m2\u001b[39m)\u001b[39m.\u001b[39mexpand([\u001b[39m*\u001b[39m\u001b[39mself\u001b[39m\u001b[39m.\u001b[39mmeans\u001b[39m.\u001b[39mshape, N]))\n\u001b[0;32m--> 104\u001b[0m pm_idx \u001b[39m=\u001b[39m torch\u001b[39m.\u001b[39;49mmultinomial(\u001b[39mself\u001b[39;49m\u001b[39m.\u001b[39;49mpm_sizes\u001b[39m.\u001b[39;49mreshape(\u001b[39m-\u001b[39;49m\u001b[39m1\u001b[39;49m, \u001b[39mself\u001b[39;49m\u001b[39m.\u001b[39;49mpm_sizes\u001b[39m.\u001b[39;49mshape[\u001b[39m2\u001b[39;49m]), N, replacement \u001b[39m=\u001b[39;49m \u001b[39mTrue\u001b[39;49;00m)\u001b[39m.\u001b[39mreshape(\u001b[39mself\u001b[39m\u001b[39m.\u001b[39mbatch_size, \u001b[39mself\u001b[39m\u001b[39m.\u001b[39mtensor_shape[\u001b[39m0\u001b[39m], \u001b[39m-\u001b[39m\u001b[39m1\u001b[39m)\n\u001b[1;32m    105\u001b[0m pms \u001b[39m=\u001b[39m \u001b[39mself\u001b[39m\u001b[39m.\u001b[39mpm_locs[torch\u001b[39m.\u001b[39marange(\u001b[39mself\u001b[39m\u001b[39m.\u001b[39mbatch_size)\u001b[39m.\u001b[39mreshape(\u001b[39mself\u001b[39m\u001b[39m.\u001b[39mbatch_size, \u001b[39m1\u001b[39m, \u001b[39m1\u001b[39m)\u001b[39m.\u001b[39mrepeat(\u001b[39m1\u001b[39m, \u001b[39mself\u001b[39m\u001b[39m.\u001b[39mtensor_shape[\u001b[39m0\u001b[39m], N), torch\u001b[39m.\u001b[39marange(\u001b[39mself\u001b[39m\u001b[39m.\u001b[39mtensor_shape[\u001b[39m0\u001b[39m])\u001b[39m.\u001b[39mreshape(\u001b[39m1\u001b[39m, \u001b[39mself\u001b[39m\u001b[39m.\u001b[39mtensor_shape[\u001b[39m0\u001b[39m], \u001b[39m1\u001b[39m)\u001b[39m.\u001b[39mrepeat(\u001b[39mself\u001b[39m\u001b[39m.\u001b[39mbatch_size, \u001b[39m1\u001b[39m, N), pm_idx]\n\u001b[1;32m    106\u001b[0m \u001b[39mreturn\u001b[39;00m torch\u001b[39m.\u001b[39mwhere(gpm_ratio \u001b[39m>\u001b[39m \u001b[39mself\u001b[39m\u001b[39m.\u001b[39mpm_tot_sizes\u001b[39m.\u001b[39munsqueeze(\u001b[39m2\u001b[39m)\u001b[39m.\u001b[39mexpand([\u001b[39m*\u001b[39m\u001b[39mself\u001b[39m\u001b[39m.\u001b[39mmeans\u001b[39m.\u001b[39mshape, N]), normals, pms)\n",
      "\u001b[0;31mRuntimeError\u001b[0m: invalid multinomial distribution (sum of probabilities <= 0)"
     ]
    }
   ],
   "source": [
    "t1r_samples = t1r[0].sample(1)"
   ]
  },
  {
   "cell_type": "code",
   "execution_count": 50,
   "metadata": {},
   "outputs": [],
   "source": [
    "N = 10000\n",
    "rs_samples = torch.tensor([mdl(x + np.sqrt(0.1) * torch.randn_like(x))[0][0] for _ in range(N)])"
   ]
  },
  {
   "cell_type": "code",
   "execution_count": 24,
   "metadata": {},
   "outputs": [
    {
     "data": {
      "text/plain": [
       "torch.Size([10000])"
      ]
     },
     "execution_count": 24,
     "metadata": {},
     "output_type": "execute_result"
    }
   ],
   "source": [
    "frs_samples"
   ]
  },
  {
   "cell_type": "code",
   "execution_count": 48,
   "metadata": {},
   "outputs": [
    {
     "data": {
      "text/plain": [
       "511"
      ]
     },
     "execution_count": 48,
     "metadata": {},
     "output_type": "execute_result"
    }
   ],
   "source": [
    "sum(t3.sample(10000)[0,0].cpu().detach().numpy() > 0)"
   ]
  },
  {
   "cell_type": "code",
   "execution_count": 45,
   "metadata": {},
   "outputs": [],
   "source": [
    "frs_samples = t3.sample(10000)[0,0].cpu().detach().numpy()"
   ]
  },
  {
   "cell_type": "code",
   "execution_count": 53,
   "metadata": {},
   "outputs": [
    {
     "data": {
      "text/plain": [
       "2553778.2"
      ]
     },
     "execution_count": 53,
     "metadata": {},
     "output_type": "execute_result"
    }
   ],
   "source": [
    "frs_samples.max()"
   ]
  },
  {
   "cell_type": "code",
   "execution_count": 51,
   "metadata": {},
   "outputs": [
    {
     "data": {
      "text/plain": [
       "(array([5.000e+00, 1.700e+01, 5.300e+01, 1.310e+02, 2.900e+02, 4.250e+02,\n",
       "        8.100e+02, 1.178e+03, 1.365e+03, 1.491e+03, 1.357e+03, 1.122e+03,\n",
       "        7.860e+02, 4.880e+02, 2.820e+02, 1.390e+02, 4.700e+01, 1.100e+01,\n",
       "        1.000e+00, 2.000e+00]),\n",
       " array([-10.59793282, -10.32561684, -10.0532999 ,  -9.78098392,\n",
       "         -9.50866699,  -9.23635101,  -8.96403503,  -8.6917181 ,\n",
       "         -8.41940212,  -8.14708519,  -7.87476921,  -7.60245275,\n",
       "         -7.3301363 ,  -7.05782032,  -6.78550386,  -6.51318741,\n",
       "         -6.24087095,  -5.9685545 ,  -5.69623852,  -5.42392206,\n",
       "         -5.15160561]),\n",
       " <BarContainer object of 20 artists>)"
      ]
     },
     "execution_count": 51,
     "metadata": {},
     "output_type": "execute_result"
    },
    {
     "data": {
      "image/png": "[encoded data removed]",
      "text/plain": [
       "<Figure size 640x480 with 1 Axes>"
      ]
     },
     "metadata": {},
     "output_type": "display_data"
    }
   ],
   "source": [
    "plt.hist(rs_samples, bins = 20)"
   ]
  },
  {
   "cell_type": "code",
   "execution_count": 46,
   "metadata": {},
   "outputs": [
    {
     "data": {
      "text/plain": [
       "(array([9.646e+03, 0.000e+00, 0.000e+00, 0.000e+00, 0.000e+00, 0.000e+00,\n",
       "        0.000e+00, 0.000e+00, 8.000e+00, 1.200e+01, 2.700e+01, 5.300e+01,\n",
       "        7.000e+01, 5.600e+01, 6.100e+01, 2.800e+01, 2.100e+01, 1.200e+01,\n",
       "        4.000e+00, 2.000e+00]),\n",
       " array([-4.27021205e-01,  1.27688508e+05,  2.55377438e+05,  3.83066375e+05,\n",
       "         5.10755312e+05,  6.38444250e+05,  7.66133188e+05,  8.93822125e+05,\n",
       "         1.02151106e+06,  1.14920000e+06,  1.27688888e+06,  1.40457788e+06,\n",
       "         1.53226675e+06,  1.65995575e+06,  1.78764462e+06,  1.91533362e+06,\n",
       "         2.04302250e+06,  2.17071150e+06,  2.29840050e+06,  2.42608925e+06,\n",
       "         2.55377825e+06]),\n",
       " <BarContainer object of 20 artists>)"
      ]
     },
     "execution_count": 46,
     "metadata": {},
     "output_type": "execute_result"
    },
    {
     "data": {
      "image/png": "[encoded data removed]",
      "text/plain": [
       "<Figure size 640x480 with 1 Axes>"
      ]
     },
     "metadata": {},
     "output_type": "display_data"
    }
   ],
   "source": [
    "plt.hist(frs_samples, bins = 20)"
   ]
  },
  {
   "cell_type": "code",
   "execution_count": 203,
   "metadata": {},
   "outputs": [
    {
     "data": {
      "text/plain": [
       "torch.Size([64, 10, 5050])"
      ]
     },
     "execution_count": 203,
     "metadata": {},
     "output_type": "execute_result"
    }
   ],
   "source": [
    "t3.pm_sizes.shape"
   ]
  },
  {
   "cell_type": "code",
   "execution_count": 176,
   "metadata": {},
   "outputs": [],
   "source": [
    "t1 = t @ mdl.l1.weight + mdl.l1.bias"
   ]
  },
  {
   "cell_type": "code",
   "execution_count": 10,
   "metadata": {},
   "outputs": [],
   "source": [
    "t1r = t1.relu()"
   ]
  },
  {
   "cell_type": "code",
   "execution_count": 11,
   "metadata": {},
   "outputs": [],
   "source": [
    "t2 = t1r @ mdl.l2.weight + mdl.l2.bias"
   ]
  },
  {
   "cell_type": "code",
   "execution_count": 127,
   "metadata": {},
   "outputs": [
    {
     "data": {
      "text/plain": [
       "tensor(14.4128, device='cuda:0', grad_fn=<DivBackward0>)"
      ]
     },
     "execution_count": 127,
     "metadata": {},
     "output_type": "execute_result"
    }
   ],
   "source": [
    "torch.sum(torch.max(torch.normal(t2.means[0,:,0], t2.variances[0,:,0]), t2.mins[0,:,0]))/100"
   ]
  },
  {
   "cell_type": "code",
   "execution_count": 12,
   "metadata": {},
   "outputs": [],
   "source": [
    "def tnormal(means, variances, N = 10000):\n",
    "    return torch.sqrt(variances).unsqueeze(3).expand([*means.shape, N]) * torch.randn([*means.shape, N], device = means.device) + means.unsqueeze(3).expand([*means.shape, N])"
   ]
  },
  {
   "cell_type": "code",
   "execution_count": 14,
   "metadata": {},
   "outputs": [],
   "source": [
    "samples = tnormal(t2.means.cpu(), t2.variances.cpu())"
   ]
  },
  {
   "cell_type": "code",
   "execution_count": 27,
   "metadata": {},
   "outputs": [],
   "source": [
    "samples_clip = torch.sum(torch.max(samples, t2.mins.unsqueeze(3).expand(64, 100, 50, 10000).cpu()), dim = 1).detach().numpy()"
   ]
  },
  {
   "cell_type": "code",
   "execution_count": 23,
   "metadata": {},
   "outputs": [
    {
     "data": {
      "text/plain": [
       "torch.Size([64, 100, 50, 10000])"
      ]
     },
     "execution_count": 23,
     "metadata": {},
     "output_type": "execute_result"
    }
   ],
   "source": [
    "samples.shape"
   ]
  },
  {
   "cell_type": "code",
   "execution_count": 26,
   "metadata": {},
   "outputs": [
    {
     "data": {
      "text/plain": [
       "(100, 50, 10000)"
      ]
     },
     "execution_count": 26,
     "metadata": {},
     "output_type": "execute_result"
    }
   ],
   "source": [
    "samples_clip.shape"
   ]
  },
  {
   "cell_type": "code",
   "execution_count": 58,
   "metadata": {},
   "outputs": [],
   "source": [
    "res_fake = scipy.stats.normaltest(torch.randn(3200, 10000).numpy(), axis = 1)"
   ]
  },
  {
   "cell_type": "code",
   "execution_count": 59,
   "metadata": {},
   "outputs": [
    {
     "data": {
      "text/plain": [
       "0.000460400852845522"
      ]
     },
     "execution_count": 59,
     "metadata": {},
     "output_type": "execute_result"
    }
   ],
   "source": [
    "min(res[1])"
   ]
  },
  {
   "cell_type": "code",
   "execution_count": 60,
   "metadata": {},
   "outputs": [],
   "source": [
    "res = scipy.stats.normaltest(samples_clip.reshape(-1, 10000), axis = 1)"
   ]
  },
  {
   "cell_type": "code",
   "execution_count": 50,
   "metadata": {},
   "outputs": [
    {
     "data": {
      "text/plain": [
       "NormaltestResult(statistic=258.84243753976506, pvalue=6.209817644988414e-57)"
      ]
     },
     "execution_count": 50,
     "metadata": {},
     "output_type": "execute_result"
    }
   ],
   "source": [
    "scipy.stats.normaltest(samples_clip.reshape(-1, 10000)[1140,:])"
   ]
  },
  {
   "cell_type": "code",
   "execution_count": 61,
   "metadata": {},
   "outputs": [
    {
     "data": {
      "text/plain": [
       "1140"
      ]
     },
     "execution_count": 61,
     "metadata": {},
     "output_type": "execute_result"
    }
   ],
   "source": [
    "res[1].argmin()"
   ]
  },
  {
   "cell_type": "code",
   "execution_count": 63,
   "metadata": {},
   "outputs": [
    {
     "data": {
      "text/plain": [
       "(array([330., 345., 338., 297., 295., 322., 309., 306., 339., 319.]),\n",
       " array([4.52821857e-05, 1.00029338e-01, 2.00013393e-01, 2.99997449e-01,\n",
       "        3.99981504e-01, 4.99965560e-01, 5.99949615e-01, 6.99933671e-01,\n",
       "        7.99917727e-01, 8.99901782e-01, 9.99885838e-01]),\n",
       " <BarContainer object of 10 artists>)"
      ]
     },
     "execution_count": 63,
     "metadata": {},
     "output_type": "execute_result"
    },
    {
     "data": {
      "image/png": "[encoded data removed]",
      "text/plain": [
       "<Figure size 640x480 with 1 Axes>"
      ]
     },
     "metadata": {},
     "output_type": "display_data"
    }
   ],
   "source": [
    "plt.hist(res_fake[1])"
   ]
  },
  {
   "cell_type": "code",
   "execution_count": 62,
   "metadata": {},
   "outputs": [
    {
     "data": {
      "text/plain": [
       "(array([420., 336., 326., 336., 305., 305., 277., 314., 280., 301.]),\n",
       " array([6.20962750e-57, 9.99663055e-02, 1.99932611e-01, 2.99898916e-01,\n",
       "        3.99865222e-01, 4.99831527e-01, 5.99797833e-01, 6.99764138e-01,\n",
       "        7.99730444e-01, 8.99696749e-01, 9.99663055e-01]),\n",
       " <BarContainer object of 10 artists>)"
      ]
     },
     "execution_count": 62,
     "metadata": {},
     "output_type": "execute_result"
    },
    {
     "data": {
      "image/png": "[encoded data removed]",
      "text/plain": [
       "<Figure size 640x480 with 1 Axes>"
      ]
     },
     "metadata": {},
     "output_type": "display_data"
    }
   ],
   "source": [
    "plt.hist(res[1])"
   ]
  },
  {
   "cell_type": "code",
   "execution_count": 155,
   "metadata": {},
   "outputs": [],
   "source": [
    "def tnmean_(alphas):\n",
    "    less = - np.sqrt(2/np.pi) * torch.exp(-(alphas ** 2)/2) / (torch.erf(alphas/np.sqrt(2)) - 1)\n",
    "    more = np.sqrt(2/np.pi) / torch.special.erfcx(alphas/np.sqrt(2))\n",
    "    res = torch.where(alphas <= 0, less, more)\n",
    "    return torch.max(alphas, res)\n",
    "\n",
    "def tnmean(means, stds, mins):\n",
    "    alphas = (mins - means)/stds\n",
    "    return means + tnmean_(alphas) * stds\n",
    "\n",
    "def tnmom2(alphas):\n",
    "    return 1 + np.sqrt(2/np.pi) * alphas / torch.special.erfcx(alphas/np.sqrt(2))\n",
    "\n",
    "def tnvar_(alphas):\n",
    "    m1 = tnmean_(alphas)\n",
    "    m2 = torch.sqrt(tnmom2(alphas))\n",
    "    return (m2 - m1) * (m2 + m1)\n",
    "\n",
    "def tnvar(means, stds, mins):\n",
    "    alphas = (mins - means)/stds\n",
    "    return tnvar_(alphas) * (stds ** 2)\n",
    "\n",
    "def tnmv(means, stds, mins): # 448 µs ± 4.93 µs vs. 781 µs ± 2 µs\n",
    "    alphas = (mins - means)/stds\n",
    "    aerfcx = torch.special.erfcx(alphas/np.sqrt(2))\n",
    "    aerf = torch.erf(alphas/np.sqrt(2))\n",
    "    mean_adjs = torch.max(alphas, np.sqrt(2/np.pi) * torch.where(alphas <= 0, - torch.exp(-(alphas ** 2)/2)/(aerf - 1), 1/aerfcx))\n",
    "    m2 = torch.sqrt(1 + np.sqrt(2/np.pi) * alphas / aerfcx)\n",
    "    var_adjs = (m2 - mean_adjs)/(m2 + mean_adjs)\n",
    "    return torch.sum(means + mean_adjs * stds, dim = -1), torch.sum(var_adjs * (stds ** 2), dim = -1)\n"
   ]
  },
  {
   "cell_type": "code",
   "execution_count": 158,
   "metadata": {},
   "outputs": [
    {
     "data": {
      "text/plain": [
       "tensor(755.3978, device='cuda:0', grad_fn=<SelectBackward0>)"
      ]
     },
     "execution_count": 158,
     "metadata": {},
     "output_type": "execute_result"
    }
   ],
   "source": [
    "torch.sum(tnmean(t2.means, torch.sqrt(t2.variances), t2.mins), dim = 1)[0,0]"
   ]
  },
  {
   "cell_type": "code",
   "execution_count": 159,
   "metadata": {},
   "outputs": [],
   "source": [
    "a, b = tnmv(t2.means.permute(0, 2, 1), torch.sqrt(t2.variances).permute(0, 2, 1), t2.mins.permute(0, 2, 1))"
   ]
  },
  {
   "cell_type": "code",
   "execution_count": 148,
   "metadata": {},
   "outputs": [
    {
     "data": {
      "text/plain": [
       "torch.Size([64, 50])"
      ]
     },
     "execution_count": 148,
     "metadata": {},
     "output_type": "execute_result"
    }
   ],
   "source": [
    "a.shape"
   ]
  },
  {
   "cell_type": "code",
   "execution_count": 160,
   "metadata": {},
   "outputs": [
    {
     "data": {
      "text/plain": [
       "(tensor(755.3978, device='cuda:0', grad_fn=<SelectBackward0>),\n",
       " tensor(612.2227, device='cuda:0', grad_fn=<SelectBackward0>))"
      ]
     },
     "execution_count": 160,
     "metadata": {},
     "output_type": "execute_result"
    }
   ],
   "source": [
    "a[0,0], b[0,0]"
   ]
  },
  {
   "cell_type": "code",
   "execution_count": 139,
   "metadata": {},
   "outputs": [
    {
     "data": {
      "text/plain": [
       "(torch.Size([64, 100]), torch.Size([64, 100]))"
      ]
     },
     "execution_count": 139,
     "metadata": {},
     "output_type": "execute_result"
    }
   ],
   "source": [
    "a.shape, b.shape"
   ]
  },
  {
   "cell_type": "code",
   "execution_count": 156,
   "metadata": {},
   "outputs": [],
   "source": [
    "m, v = tnmv(t2.means[0,:,0], torch.sqrt(t2.variances[0,:,0]), t2.mins[0,:,0])"
   ]
  },
  {
   "cell_type": "code",
   "execution_count": 157,
   "metadata": {},
   "outputs": [
    {
     "data": {
      "text/plain": [
       "(tensor(755.3977, device='cuda:0', grad_fn=<SumBackward1>),\n",
       " tensor(612.2227, device='cuda:0', grad_fn=<SumBackward1>))"
      ]
     },
     "execution_count": 157,
     "metadata": {},
     "output_type": "execute_result"
    }
   ],
   "source": [
    "m, v"
   ]
  },
  {
   "cell_type": "code",
   "execution_count": 134,
   "metadata": {},
   "outputs": [
    {
     "name": "stdout",
     "output_type": "stream",
     "text": [
      "781 µs ± 2 µs per loop (mean ± std. dev. of 7 runs, 1,000 loops each)\n"
     ]
    }
   ],
   "source": [
    "%%timeit\n",
    "m, v = torch.sum(tnmean(t2.means[0,:,0], torch.sqrt(t2.variances[0,:,0]), t2.mins[0,:,0])), torch.sum(tnvar(t2.means[0,:,0], torch.sqrt(t2.variances[0,:,0]), t2.mins[0,:,0]))"
   ]
  },
  {
   "cell_type": "code",
   "execution_count": 111,
   "metadata": {},
   "outputs": [],
   "source": [
    "m, v = m.cpu().detach().numpy(), v.cpu().detach().numpy()"
   ]
  },
  {
   "cell_type": "code",
   "execution_count": 72,
   "metadata": {},
   "outputs": [
    {
     "data": {
      "text/plain": [
       "tensor(94.4115, device='cuda:0', grad_fn=<SumBackward0>)"
      ]
     },
     "execution_count": 72,
     "metadata": {},
     "output_type": "execute_result"
    }
   ],
   "source": [
    "torch.sum(t2.means[0,:,0])"
   ]
  },
  {
   "cell_type": "code",
   "execution_count": 123,
   "metadata": {},
   "outputs": [
    {
     "data": {
      "text/plain": [
       "636.1627"
      ]
     },
     "execution_count": 123,
     "metadata": {},
     "output_type": "execute_result"
    }
   ],
   "source": [
    "np.var(samples_clip[0, 0, :])"
   ]
  },
  {
   "cell_type": "code",
   "execution_count": 121,
   "metadata": {},
   "outputs": [
    {
     "data": {
      "text/plain": [
       "751.2478"
      ]
     },
     "execution_count": 121,
     "metadata": {},
     "output_type": "execute_result"
    }
   ],
   "source": [
    "np.mean(samples_clip[0, 0, :])"
   ]
  },
  {
   "cell_type": "code",
   "execution_count": 119,
   "metadata": {},
   "outputs": [
    {
     "data": {
      "text/plain": [
       "[<matplotlib.lines.Line2D at 0x7fc376f53010>]"
      ]
     },
     "execution_count": 119,
     "metadata": {},
     "output_type": "execute_result"
    },
    {
     "data": {
      "image/png": "[encoded data removed]",
      "text/plain": [
       "<Figure size 640x480 with 1 Axes>"
      ]
     },
     "metadata": {},
     "output_type": "display_data"
    }
   ],
   "source": [
    "plt.hist(samples_clip.reshape(-1, 10000)[0,:], bins = 50, density = True)\n",
    "x = np.linspace(m - 3*np.sqrt(v), m + 3*np.sqrt(v), 200)\n",
    "plt.plot(x, scipy.stats.norm.pdf(x, m, np.sqrt(v)))"
   ]
  },
  {
   "cell_type": "code",
   "execution_count": 211,
   "metadata": {},
   "outputs": [
    {
     "data": {
      "image/png": "[encoded data removed]",
      "text/plain": [
       "<Figure size 640x480 with 1 Axes>"
      ]
     },
     "metadata": {},
     "output_type": "display_data"
    }
   ],
   "source": [
    "sm.qqplot(samples, line = 'q');"
   ]
  },
  {
   "cell_type": "code",
   "execution_count": 210,
   "metadata": {},
   "outputs": [
    {
     "data": {
      "image/png": "[encoded data removed]",
      "text/plain": [
       "<Figure size 640x480 with 1 Axes>"
      ]
     },
     "metadata": {},
     "output_type": "display_data"
    }
   ],
   "source": [
    "sm.qqplot(torch.randn(10000), line = 'q');"
   ]
  },
  {
   "cell_type": "code",
   "execution_count": 216,
   "metadata": {},
   "outputs": [
    {
     "data": {
      "text/plain": [
       "SignificanceResult(statistic=2.2368142636411448, pvalue=0.32679992946863196)"
      ]
     },
     "execution_count": 216,
     "metadata": {},
     "output_type": "execute_result"
    }
   ],
   "source": [
    "scipy.stats.jarque_bera(torch.randn(10000))"
   ]
  },
  {
   "cell_type": "code",
   "execution_count": 217,
   "metadata": {},
   "outputs": [
    {
     "data": {
      "text/plain": [
       "SignificanceResult(statistic=0.7646137209471207, pvalue=0.6822856545798848)"
      ]
     },
     "execution_count": 217,
     "metadata": {},
     "output_type": "execute_result"
    }
   ],
   "source": [
    "scipy.stats.jarque_bera(samples)"
   ]
  },
  {
   "cell_type": "code",
   "execution_count": null,
   "metadata": {},
   "outputs": [],
   "source": []
  }
 ],
 "metadata": {
  "kernelspec": {
   "display_name": "torch",
   "language": "python",
   "name": "python3"
  },
  "language_info": {
   "codemirror_mode": {
    "name": "ipython",
    "version": 3
   },
   "file_extension": ".py",
   "mimetype": "text/x-python",
   "name": "python",
   "nbconvert_exporter": "python",
   "pygments_lexer": "ipython3",
   "version": "3.10.10"
  },
  "orig_nbformat": 4,
  "vscode": {
   "interpreter": {
    "hash": "a66e8ba48cdbbce869fdf53f12a35ac0596a9611ede1f91a83135635f6bc0a12"
   }
  }
 },
 "nbformat": 4,
 "nbformat_minor": 2
}
